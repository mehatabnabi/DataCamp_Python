{
 "cells": [
  {
   "cell_type": "code",
   "execution_count": 12,
   "metadata": {},
   "outputs": [
    {
     "name": "stdout",
     "output_type": "stream",
     "text": [
      "      id        user_name     password\n",
      "0      1   vance.jennings     joobheco\n",
      "1      2   consuelo.eaton   0869347314\n",
      "2      3  mitchel.perkins   fabypotter\n",
      "3      4   odessa.vaughan    aharney88\n",
      "4      5   araceli.wilder   acecdn3000\n",
      "..   ...              ...          ...\n",
      "977  978    autumn.alford     akgkhk82\n",
      "978  979    miriam.haynes   jhavonne93\n",
      "979  980     genaro.russo  v2PfqcQDleA\n",
      "980  981       lora.quinn      antonau\n",
      "981  982  elmer.mccormick   goldfish92\n",
      "\n",
      "[982 rows x 3 columns]\n",
      "   id         user_name          password\n",
      "0   1    vance.jennings          joobheco\n",
      "1   2    consuelo.eaton        0869347314\n",
      "2   3   mitchel.perkins        fabypotter\n",
      "3   4    odessa.vaughan         aharney88\n",
      "4   5    araceli.wilder        acecdn3000\n",
      "5   6  shawn.harrington           5278049\n",
      "6   7        evelyn.gay            master\n",
      "7   8       noreen.hale            murphy\n",
      "8   9       gladys.ward           lwsves2\n",
      "9  10   brant.zimmerman  1190KAREN5572497\n"
     ]
    }
   ],
   "source": [
    "# Importing pandas\n",
    "import pandas as pd\n",
    "\n",
    "# Loading the dataset\n",
    "users = pd.read_csv(\"users.csv\")\n",
    "\n",
    "# printing out the overview of the dataset\n",
    "print(users)\n",
    "\n",
    "# Taking a look at the first 10 users\n",
    "print(users.head(10))"
   ]
  },
  {
   "cell_type": "code",
   "execution_count": 13,
   "metadata": {},
   "outputs": [
    {
     "name": "stdout",
     "output_type": "stream",
     "text": [
      "376\n",
      "    id           user_name          password  length  short\n",
      "0    1      vance.jennings          joobheco       8  False\n",
      "1    2      consuelo.eaton        0869347314      10  False\n",
      "2    3     mitchel.perkins        fabypotter      10  False\n",
      "3    4      odessa.vaughan         aharney88       9  False\n",
      "4    5      araceli.wilder        acecdn3000      10  False\n",
      "5    6    shawn.harrington           5278049       7   True\n",
      "6    7          evelyn.gay            master       6   True\n",
      "7    8         noreen.hale            murphy       6   True\n",
      "8    9         gladys.ward           lwsves2       7   True\n",
      "9   10     brant.zimmerman  1190KAREN5572497      16  False\n",
      "10  11       leanna.abbott          aivlys24       8  False\n",
      "11  12     milford.hubbard           hubbard       7   True\n",
      "12  13           mamie.fox        mitonguito      10  False\n",
      "13  14       jamie.cochran            310356       6   True\n",
      "14  15  nathaniel.robinson         angelmajo       9  False\n",
      "15  16          lorrie.gay           oZ4k0QE       7   True\n",
      "16  17        domingo.dyer           chelsea       7   True\n",
      "17  18      martin.pacheco           zvc1939       7   True\n",
      "18  19       shelby.massey            nickgd       6   True\n",
      "19  20     rosella.barrett        O2gv3LlcfG      10  False\n"
     ]
    }
   ],
   "source": [
    "# Calculating the lengths of users' passwords\n",
    "users['length'] = users['password'].str.len()\n",
    "\n",
    "# Flagging the users with too short passwords\n",
    "users['short'] = users.length<8\n",
    "\n",
    "# Counting and printing the number of users with too short passwords\n",
    "print(sum(users.short))\n",
    "\n",
    "# Taking a look at the 12 first rows\n",
    "print(users.head(20))"
   ]
  },
  {
   "cell_type": "code",
   "execution_count": null,
   "metadata": {},
   "outputs": [],
   "source": []
  }
 ],
 "metadata": {
  "kernelspec": {
   "display_name": "Python 3",
   "language": "python",
   "name": "python3"
  },
  "language_info": {
   "codemirror_mode": {
    "name": "ipython",
    "version": 3
   },
   "file_extension": ".py",
   "mimetype": "text/x-python",
   "name": "python",
   "nbconvert_exporter": "python",
   "pygments_lexer": "ipython3",
   "version": "3.7.6"
  }
 },
 "nbformat": 4,
 "nbformat_minor": 4
}
